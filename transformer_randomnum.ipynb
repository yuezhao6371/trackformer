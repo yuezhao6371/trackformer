{
 "cells": [
  {
   "cell_type": "code",
   "execution_count": 1,
   "id": "0930030e",
   "metadata": {},
   "outputs": [],
   "source": [
    "import tensorflow as tf\n",
    "from tensorflow import keras\n",
    "from tensorflow.keras import layers\n",
    "import numpy as np\n",
    "\n",
    "class PositionalEncoding(layers.Layer):\n",
    "    def __init__(self, input_size, hidden_size):\n",
    "        super(PositionalEncoding, self).__init__()\n",
    "        self.positional_encoding = self._get_positional_encoding(input_size, hidden_size)\n",
    "\n",
    "    def call(self, inputs):\n",
    "        return inputs + self.positional_encoding[:, :tf.shape(inputs)[1], :]\n",
    "\n",
    "    def _get_positional_encoding(self, input_size, hidden_size):\n",
    "        angle_rads = self._get_angles(input_size, hidden_size)\n",
    "\n",
    "        # Apply sin to even indices in the array\n",
    "        angle_rads[:, 0::2] = tf.sin(angle_rads[:, 0::2])\n",
    "\n",
    "        # Apply cos to odd indices in the array\n",
    "        angle_rads[:, 1::2] = tf.cos(angle_rads[:, 1::2])\n",
    "\n",
    "        pos_encoding = angle_rads[np.newaxis, ...]\n",
    "        return tf.cast(pos_encoding, dtype=tf.float32)\n",
    "\n",
    "    def _get_angles(self, input_size, hidden_size):\n",
    "        positions = np.arange(input_size)[:, np.newaxis]\n",
    "        indices = np.arange(hidden_size)[np.newaxis, :]\n",
    "        angle_rates = 1 / np.power(10000, (2 * (indices // 2)) / np.float32(hidden_size))\n",
    "        return positions * angle_rates\n",
    "\n",
    "\n",
    "class TransformerLayer(layers.Layer):\n",
    "    def __init__(self, hidden_size, num_heads):\n",
    "        super(TransformerLayer, self).__init__()\n",
    "        self.mha = layers.MultiHeadAttention(num_heads, hidden_size)\n",
    "        self.dropout = layers.Dropout(0.1)\n",
    "        self.norm = layers.LayerNormalization(epsilon=1e-6)\n",
    "        self.ffn = keras.Sequential(\n",
    "            [layers.Dense(hidden_size, activation=\"relu\"), layers.Dense(hidden_size)]\n",
    "        )\n",
    "\n",
    "    def call(self, x, training):\n",
    "        # Attention\n",
    "        attn_output = self.mha(x, x, training=training)\n",
    "        attn_output = self.dropout(attn_output, training=training)\n",
    "        res = self.norm(x + attn_output)\n",
    "        # Feed Forward\n",
    "        ffn_output = self.ffn(res)\n",
    "        ffn_output = self.dropout(ffn_output, training=training)\n",
    "        return self.norm(res + ffn_output)\n",
    "\n",
    "\n",
    "class Transformer(tf.keras.Model):\n",
    "    def __init__(self, input_size, hidden_size, num_layers, num_heads):\n",
    "        super(Transformer, self).__init__()\n",
    "\n",
    "        self.embedding = layers.Embedding(input_size, hidden_size)\n",
    "        self.pos_encoding = PositionalEncoding(input_size, hidden_size)\n",
    "        self.decoder = [TransformerLayer(hidden_size, num_heads) for _ in range(num_layers)]\n",
    "        self.output_layer = layers.Dense(input_size)\n",
    "\n",
    "    def call(self, x, training=True):\n",
    "        x = self.embedding(x)\n",
    "        x = self.pos_encoding(x)\n",
    "\n",
    "        for decoder_layer in self.decoder:\n",
    "            x = decoder_layer(x, training)\n",
    "\n",
    "        output = self.output_layer(x)\n",
    "\n",
    "        return output\n"
   ]
  },
  {
   "cell_type": "code",
   "execution_count": 2,
   "id": "b8f4b738",
   "metadata": {},
   "outputs": [],
   "source": [
    "import random\n",
    "\n",
    "# Hyperparameters\n",
    "input_size = 50  # Example: Range of input numbers\n",
    "hidden_size = 64\n",
    "num_layers = 2\n",
    "num_heads = 4\n",
    "learning_rate = 0.001\n",
    "num_epochs = 500\n",
    "\n",
    "# Define the loss function and optimizer\n",
    "loss_function = tf.keras.losses.SparseCategoricalCrossentropy(from_logits=True)\n",
    "optimizer = tf.keras.optimizers.Adam()\n",
    "\n",
    "# Create the transformer model\n",
    "model = Transformer(input_size, hidden_size, num_layers, num_heads)\n"
   ]
  },
  {
   "cell_type": "code",
   "execution_count": 14,
   "id": "634c54b8",
   "metadata": {
    "scrolled": false
   },
   "outputs": [
    {
     "data": {
      "text/plain": [
       "[7.392128069293612,\n",
       " 9.392128069293612,\n",
       " 11.392128069293612,\n",
       " 13.392128069293612,\n",
       " 15.392128069293612,\n",
       " 17.392128069293612,\n",
       " 19.392128069293612,\n",
       " 21.392128069293612,\n",
       " 23.392128069293612]"
      ]
     },
     "execution_count": 14,
     "metadata": {},
     "output_type": "execute_result"
    }
   ],
   "source": [
    "n = random.randint(2,10) # Define the length of your lists\n",
    "start = random.uniform(0, input_size - 21)  # Start with a random integer\n",
    "training_data = [start + 2*i for i in range(n)]\n",
    "training_data"
   ]
  },
  {
   "cell_type": "code",
   "execution_count": 20,
   "id": "e0f643a9",
   "metadata": {},
   "outputs": [
    {
     "data": {
      "text/plain": [
       "list"
      ]
     },
     "execution_count": 20,
     "metadata": {},
     "output_type": "execute_result"
    }
   ],
   "source": [
    "type(training_data)"
   ]
  },
  {
   "cell_type": "code",
   "execution_count": 4,
   "id": "2e9373a3",
   "metadata": {
    "scrolled": true
   },
   "outputs": [
    {
     "data": {
      "text/plain": [
       "[4, 6, 8, 10, 2, 4]"
      ]
     },
     "execution_count": 4,
     "metadata": {},
     "output_type": "execute_result"
    }
   ],
   "source": [
    "N = 10  # Number of classes\n",
    "target_values = [int(x) % N + 1 for x in training_data]\n",
    "target_values"
   ]
  },
  {
   "cell_type": "code",
   "execution_count": 17,
   "id": "a3f36363",
   "metadata": {},
   "outputs": [],
   "source": [
    "data = tf.constant([training_data])\n",
    "tgt = tf.constant([target_values])"
   ]
  },
  {
   "cell_type": "code",
   "execution_count": 18,
   "id": "4f87f437",
   "metadata": {},
   "outputs": [
    {
     "data": {
      "text/plain": [
       "tensorflow.python.framework.ops.EagerTensor"
      ]
     },
     "execution_count": 18,
     "metadata": {},
     "output_type": "execute_result"
    }
   ],
   "source": [
    "type(data)"
   ]
  },
  {
   "cell_type": "code",
   "execution_count": 19,
   "id": "485927aa",
   "metadata": {
    "scrolled": true
   },
   "outputs": [
    {
     "data": {
      "text/plain": [
       "<tf.Tensor: shape=(1, 9), dtype=float32, numpy=\n",
       "array([[ 7.392128,  9.392128, 11.392128, 13.392128, 15.392128, 17.392128,\n",
       "        19.392128, 21.392128, 23.392128]], dtype=float32)>"
      ]
     },
     "execution_count": 19,
     "metadata": {},
     "output_type": "execute_result"
    }
   ],
   "source": [
    "data"
   ]
  },
  {
   "cell_type": "code",
   "execution_count": 9,
   "id": "3bf10f4f",
   "metadata": {},
   "outputs": [
    {
     "data": {
      "text/plain": [
       "<tf.Tensor: shape=(1, 6), dtype=int32, numpy=array([[ 4,  6,  8, 10,  2,  4]], dtype=int32)>"
      ]
     },
     "execution_count": 9,
     "metadata": {},
     "output_type": "execute_result"
    }
   ],
   "source": [
    "tgt"
   ]
  },
  {
   "cell_type": "code",
   "execution_count": 3,
   "id": "be90a6be",
   "metadata": {
    "scrolled": false
   },
   "outputs": [
    {
     "name": "stdout",
     "output_type": "stream",
     "text": [
      "Epoch [0/500], Loss: 2.9928\n",
      "[0.3220419607359972, 2.322041960735997, 4.322041960735997, 6.322041960735997]\n",
      "[1, 3, 5, 7]\n",
      "Epoch [50/500], Loss: 1.9694\n",
      "[13.988286370683527, 15.988286370683527, 17.988286370683525, 19.988286370683525, 21.988286370683525, 23.988286370683525, 25.988286370683525, 27.988286370683525, 29.988286370683525, 31.988286370683525]\n",
      "[4, 6, 8, 10, 2, 4, 6, 8, 10, 2]\n",
      "Epoch [100/500], Loss: 2.6252\n",
      "[12.565846020900484, 14.565846020900484, 16.565846020900484, 18.565846020900484, 20.565846020900484, 22.565846020900484]\n",
      "[3, 5, 7, 9, 1, 3]\n",
      "Epoch [150/500], Loss: 2.4866\n",
      "[21.482893462361062, 23.482893462361062, 25.482893462361062, 27.482893462361062, 29.482893462361062, 31.482893462361062]\n",
      "[2, 4, 6, 8, 10, 2]\n",
      "Epoch [200/500], Loss: 2.3017\n",
      "[25.993386700931993, 27.993386700931993, 29.993386700931993, 31.993386700931993, 33.99338670093199, 35.99338670093199, 37.99338670093199, 39.99338670093199, 41.99338670093199]\n",
      "[6, 8, 10, 2, 4, 6, 8, 10, 2]\n",
      "Epoch [250/500], Loss: 1.3027\n",
      "[5.932217066787058, 7.932217066787058, 9.932217066787057, 11.932217066787057, 13.932217066787057, 15.932217066787057, 17.932217066787057]\n",
      "[6, 8, 10, 2, 4, 6, 8]\n",
      "Epoch [300/500], Loss: 0.7941\n",
      "[15.4745582649096, 17.4745582649096, 19.4745582649096, 21.4745582649096, 23.4745582649096]\n",
      "[6, 8, 10, 2, 4]\n",
      "Epoch [350/500], Loss: 0.3407\n",
      "[25.75473993482732, 27.75473993482732, 29.75473993482732, 31.75473993482732, 33.75473993482732, 35.75473993482732, 37.75473993482732, 39.75473993482732]\n",
      "[6, 8, 10, 2, 4, 6, 8, 10]\n",
      "Epoch [400/500], Loss: 0.1138\n",
      "[5.71066295717926, 7.71066295717926, 9.71066295717926]\n",
      "[6, 8, 10]\n",
      "Epoch [450/500], Loss: 0.0306\n",
      "[8.600150119471383, 10.600150119471383, 12.600150119471383]\n",
      "[9, 1, 3]\n",
      "Epoch [499/500], Loss: 0.0294\n",
      "[20.367294840260517, 22.367294840260517, 24.367294840260517, 26.367294840260517, 28.367294840260517, 30.367294840260517, 32.36729484026051, 34.36729484026051, 36.36729484026051, 38.36729484026051]\n",
      "[1, 3, 5, 7, 9, 1, 3, 5, 7, 9]\n"
     ]
    }
   ],
   "source": [
    "import matplotlib.pyplot as plt\n",
    "\n",
    "# Lists to store the loss values and epochs\n",
    "loss_history = []\n",
    "epoch_history = []\n",
    "\n",
    "# Training loop\n",
    "for epoch in range(num_epochs):\n",
    "    with tf.GradientTape() as tape:\n",
    "\n",
    "        # here we make the training data, we generate a sequence of random numbers as coordintes of hits\n",
    "        # and then we below we assign classes to those numbers\n",
    "        n = random.randint(2,10) # Define the length of your lists\n",
    "        start = random.uniform(0, input_size - 21)  # Start with a random integer\n",
    "        training_data = [start + 2*i for i in range(n)]\n",
    "\n",
    "        # the target values are just classes, computed with the modulo from the coordinates that are the inputs\n",
    "        #target_values = [x + 2 for x in training_data]\n",
    "        N = 10  # Number of classes\n",
    "        target_values = [int(x) % N + 1 for x in training_data]\n",
    "    \n",
    "#        n = 10-1  # Define the length of your lists\n",
    "#        start = random.randint(0, input_size - 3)  # Start with a random integer\n",
    "#        training_data = [start + 2*i for i in range(n)]\n",
    "#        target_values = [x + 2 for x in training_data]\n",
    "        \n",
    "        # Convert training data to tensors\n",
    "        data = tf.constant([training_data])\n",
    "        tgt = tf.constant([target_values])\n",
    "\n",
    "        # Reset the initial prediction value for each epoch\n",
    "        #tgt_input = tgt[:, :-1]  # Exclude last target value during training\n",
    "        #real_tgt = tgt[:, 1:]    # Calculate loss with target shifted by one\n",
    "\n",
    "        # Forward pass\n",
    "        #output = model(tgt_input, training=True)\n",
    "        output = model(data, training=True)\n",
    "\n",
    "        # Calculate loss\n",
    "        loss = loss_function(tgt, output)\n",
    "        # Append the loss and epoch to the history lists\n",
    "        loss_history.append(loss.numpy())\n",
    "        epoch_history.append(epoch)\n",
    "\n",
    "        if epoch % 50 == 0 or epoch == (num_epochs-1):\n",
    "            print(f\"Epoch [{epoch}/{num_epochs}], Loss: {loss.numpy():.4f}\")\n",
    "            print (training_data)\n",
    "            print (target_values)\n",
    "\n",
    "\n",
    "    # Perform gradient descent\n",
    "    gradients = tape.gradient(loss, model.trainable_variables)\n",
    "    optimizer.apply_gradients(zip(gradients, model.trainable_variables))\n"
   ]
  },
  {
   "cell_type": "code",
   "execution_count": 4,
   "id": "c52381c2",
   "metadata": {},
   "outputs": [
    {
     "data": {
      "image/png": "[encoded data removed]",
      "text/plain": [
       "<Figure size 640x480 with 1 Axes>"
      ]
     },
     "metadata": {},
     "output_type": "display_data"
    }
   ],
   "source": [
    "# Plot the loss history\n",
    "plt.plot(epoch_history, loss_history)\n",
    "plt.title('Loss as a Function of Epochs')\n",
    "plt.xlabel('Epochs')\n",
    "plt.ylabel('Loss')\n",
    "plt.show()\n"
   ]
  },
  {
   "cell_type": "code",
   "execution_count": 5,
   "id": "a690e1a8",
   "metadata": {},
   "outputs": [
    {
     "name": "stdout",
     "output_type": "stream",
     "text": [
      "Model: \"transformer\"\n",
      "_________________________________________________________________\n",
      " Layer (type)                Output Shape              Param #   \n",
      "=================================================================\n",
      " embedding (Embedding)       multiple                  3200      \n",
      "                                                                 \n",
      " positional_encoding (Positi  multiple                 0         \n",
      " onalEncoding)                                                   \n",
      "                                                                 \n",
      " transformer_layer (Transfor  multiple                 74816     \n",
      " merLayer)                                                       \n",
      "                                                                 \n",
      " transformer_layer_1 (Transf  multiple                 74816     \n",
      " ormerLayer)                                                     \n",
      "                                                                 \n",
      " dense_4 (Dense)             multiple                  3250      \n",
      "                                                                 \n",
      "=================================================================\n",
      "Total params: 156,082\n",
      "Trainable params: 156,082\n",
      "Non-trainable params: 0\n",
      "_________________________________________________________________\n"
     ]
    }
   ],
   "source": [
    "model.summary()"
   ]
  },
  {
   "cell_type": "code",
   "execution_count": 6,
   "id": "ada0c0f7",
   "metadata": {},
   "outputs": [
    {
     "name": "stdout",
     "output_type": "stream",
     "text": [
      "tf.Tensor([[9]], shape=(1, 1), dtype=int32)\n",
      "tf.Tensor([], shape=(1, 0), dtype=int32)\n"
     ]
    }
   ],
   "source": [
    "# Example test data\n",
    "test_data = [9]\n",
    "test_input = tf.constant([test_data])\n",
    "print(test_input)\n",
    "print(test_input[:, :-1])\n"
   ]
  },
  {
   "cell_type": "code",
   "execution_count": 7,
   "id": "39e8fb8e",
   "metadata": {},
   "outputs": [],
   "source": [
    "# Make predictions\n",
    "predictions = model(test_input, training=False)\n"
   ]
  },
  {
   "cell_type": "code",
   "execution_count": 8,
   "id": "f9d1aac3",
   "metadata": {},
   "outputs": [
    {
     "name": "stdout",
     "output_type": "stream",
     "text": [
      "tf.Tensor(\n",
      "[[[-1.025277   -3.3409045   1.168122   -0.06233371  1.9726312\n",
      "    0.7708724   4.872664   -0.39810374  2.1897993  -1.2321839\n",
      "    5.227228   -3.5191116  -2.1916342  -1.3772986  -1.2910961\n",
      "   -3.5854783  -2.7429576  -2.1395562  -2.6973407  -2.3342965\n",
      "   -4.568336   -2.4132078  -3.5768075  -1.457867   -3.5987823\n",
      "   -2.8354876  -2.4985838  -2.7464073  -3.4241416  -2.477642\n",
      "   -3.901896   -3.2484565  -3.1460493  -2.8146036  -2.9578035\n",
      "   -2.7951584  -2.847752   -1.692033   -2.317044   -3.0975819\n",
      "   -1.8060217  -1.0394047  -3.2430067  -1.9018011  -1.2141824\n",
      "   -2.1012678  -2.4103317  -2.1254272  -3.5907078  -2.7591968 ]]], shape=(1, 1, 50), dtype=float32)\n"
     ]
    }
   ],
   "source": [
    "print (predictions)"
   ]
  },
  {
   "cell_type": "code",
   "execution_count": 9,
   "id": "005fc74a",
   "metadata": {},
   "outputs": [
    {
     "name": "stdout",
     "output_type": "stream",
     "text": [
      "[10]\n",
      "Predicted class for number 9 is : 10\n"
     ]
    }
   ],
   "source": [
    "# Print the predicted values\n",
    "predicted_values = tf.argmax(predictions[:, -1, :], axis=-1).numpy().tolist()\n",
    "print (predicted_values)\n",
    "for i, prediction in enumerate(predicted_values):\n",
    "    print(f\"Predicted class for number {test_data[i]} is : {prediction}\")\n"
   ]
  },
  {
   "cell_type": "markdown",
   "id": "49bac235",
   "metadata": {},
   "source": [
    "import pandas as pd\n",
    "\n",
    "# Read the CSV file\n",
    "df = pd.read_csv('/Users/saschacaron/Downloads/experiment_2d_noisy-1-to-20-tracks/events_all/hits_and_tracks_2d_events_all.csv')\n",
    "\n",
    "# Print the contents of the DataFrame\n",
    "print(df.head())\n"
   ]
  },
  {
   "cell_type": "code",
   "execution_count": null,
   "id": "688e4793",
   "metadata": {},
   "outputs": [],
   "source": []
  }
 ],
 "metadata": {
  "kernelspec": {
   "display_name": "Python 3 (ipykernel)",
   "language": "python",
   "name": "python3"
  },
  "language_info": {
   "codemirror_mode": {
    "name": "ipython",
    "version": 3
   },
   "file_extension": ".py",
   "mimetype": "text/x-python",
   "name": "python",
   "nbconvert_exporter": "python",
   "pygments_lexer": "ipython3",
   "version": "3.10.4"
  }
 },
 "nbformat": 4,
 "nbformat_minor": 5
}
