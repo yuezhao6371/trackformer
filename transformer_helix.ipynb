{
 "cells": [
  {
   "cell_type": "code",
   "execution_count": 35,
   "id": "0930030e",
   "metadata": {},
   "outputs": [],
   "source": [
    "import tensorflow as tf\n",
    "from tensorflow import keras\n",
    "from tensorflow.keras import layers\n",
    "import numpy as np\n",
    "\n",
    "class PositionalEncoding(layers.Layer):\n",
    "    def __init__(self, input_size, hidden_size):\n",
    "        super(PositionalEncoding, self).__init__()\n",
    "        self.positional_encoding = self._get_positional_encoding(input_size, hidden_size)\n",
    "\n",
    "    def call(self, inputs):\n",
    "        return inputs + self.positional_encoding[:, :tf.shape(inputs)[1], :]\n",
    "\n",
    "    def _get_positional_encoding(self, input_size, hidden_size):\n",
    "        angle_rads = self._get_angles(input_size, hidden_size)\n",
    "\n",
    "        # Apply sin to even indices in the array\n",
    "        angle_rads[:, 0::2] = tf.sin(angle_rads[:, 0::2])\n",
    "\n",
    "        # Apply cos to odd indices in the array\n",
    "        angle_rads[:, 1::2] = tf.cos(angle_rads[:, 1::2])\n",
    "\n",
    "        pos_encoding = angle_rads[np.newaxis, ...]\n",
    "        return tf.cast(pos_encoding, dtype=tf.float32)\n",
    "\n",
    "    def _get_angles(self, input_size, hidden_size):\n",
    "        positions = np.arange(input_size)[:, np.newaxis]\n",
    "        indices = np.arange(hidden_size)[np.newaxis, :]\n",
    "        angle_rates = 1 / np.power(10000, (2 * (indices // 2)) / np.float32(hidden_size))\n",
    "        return positions * angle_rates\n",
    "\n",
    "\n",
    "class TransformerLayer(layers.Layer):\n",
    "    def __init__(self, hidden_size, num_heads):\n",
    "        super(TransformerLayer, self).__init__()\n",
    "        self.mha = layers.MultiHeadAttention(num_heads, hidden_size)\n",
    "        self.dropout = layers.Dropout(0.1)\n",
    "        self.norm = layers.LayerNormalization(epsilon=1e-6)\n",
    "        self.ffn = keras.Sequential(\n",
    "            [layers.Dense(hidden_size, activation=\"relu\"), layers.Dense(hidden_size)]\n",
    "        )\n",
    "\n",
    "    def call(self, x, training):\n",
    "        # Attention\n",
    "        attn_output = self.mha(x, x, training=training)\n",
    "        attn_output = self.dropout(attn_output, training=training)\n",
    "        res = self.norm(x + attn_output)\n",
    "        # Feed Forward\n",
    "        ffn_output = self.ffn(res)\n",
    "        ffn_output = self.dropout(ffn_output, training=training)\n",
    "        return self.norm(res + ffn_output)\n",
    "\n",
    "\n",
    "class Transformer(tf.keras.Model):\n",
    "    def __init__(self, input_size, hidden_size, num_layers, num_heads):\n",
    "        super(Transformer, self).__init__()\n",
    "\n",
    "        self.embedding = layers.Embedding(input_size, hidden_size)\n",
    "        self.pos_encoding = PositionalEncoding(input_size, hidden_size)\n",
    "        self.decoder = [TransformerLayer(hidden_size, num_heads) for _ in range(num_layers)]\n",
    "        self.output_layer = layers.Dense(input_size)\n",
    "        # self.output_layer = layers.Dense(input_size, activation=\"softmax\")\n",
    "\n",
    "    def call(self, x, training=True):\n",
    "        x = self.embedding(x)\n",
    "        x = self.pos_encoding(x)\n",
    "\n",
    "        for decoder_layer in self.decoder:\n",
    "            x = decoder_layer(x, training)\n",
    "\n",
    "        output = self.output_layer(x)\n",
    "\n",
    "        return output\n"
   ]
  },
  {
   "cell_type": "markdown",
   "id": "227f4922",
   "metadata": {},
   "source": [
    "# 1D helix functions with 5 different parameters\n",
    "x = r cos(t)"
   ]
  },
  {
   "cell_type": "code",
   "execution_count": 36,
   "id": "2dbcb5a5",
   "metadata": {},
   "outputs": [],
   "source": [
    "# if torch is not installed:\n",
    "# !pip install torch"
   ]
  },
  {
   "cell_type": "code",
   "execution_count": 37,
   "id": "c781189f",
   "metadata": {},
   "outputs": [
    {
     "data": {
      "text/plain": [
       "(1000, 2)"
      ]
     },
     "execution_count": 37,
     "metadata": {},
     "output_type": "execute_result"
    }
   ],
   "source": [
    "import pandas as pd\n",
    "import torch\n",
    "import random\n",
    "\n",
    "# x = r cos(t)\n",
    "# 5000 data points, 1000 from each helix of a specific r\n",
    "# each data point contains a x value and a class number idenfiying\n",
    "#    the helix of a specific r\n",
    "training_data = torch.zeros(1000,2).numpy()\n",
    "test_data = torch.zeros(100,2).numpy()\n",
    "training_data.shape"
   ]
  },
  {
   "cell_type": "code",
   "execution_count": 38,
   "id": "d2872fe1",
   "metadata": {},
   "outputs": [
    {
     "data": {
      "text/plain": [
       "array([0.91317374, 0.09317585, 0.55477102, 0.33504266, 0.0169621 ])"
      ]
     },
     "execution_count": 38,
     "metadata": {},
     "output_type": "execute_result"
    }
   ],
   "source": [
    "# 5 random r values\n",
    "rand_r = np.random.rand(5)\n",
    "rand_r"
   ]
  },
  {
   "cell_type": "code",
   "execution_count": 39,
   "id": "b0e91197",
   "metadata": {},
   "outputs": [
    {
     "data": {
      "text/plain": [
       "array([[0.        , 0.59698564],\n",
       "       [0.        , 0.7825405 ],\n",
       "       [0.        , 0.80755895],\n",
       "       ...,\n",
       "       [4.        , 0.00930959],\n",
       "       [4.        , 0.00956366],\n",
       "       [4.        , 0.01438977]], dtype=float32)"
      ]
     },
     "execution_count": 39,
     "metadata": {},
     "output_type": "execute_result"
    }
   ],
   "source": [
    "class_id = 0\n",
    "for r in rand_r:\n",
    "    # generate training data\n",
    "    t = np.random.rand(200)\n",
    "    x = r * np.cos(t)\n",
    "    training_data[class_id*200:(class_id+1)*200,0] = class_id\n",
    "    training_data[class_id*200:(class_id+1)*200,1] = x\n",
    "    \n",
    "    # generate test data\n",
    "    t = np.random.rand(20)\n",
    "    x = r * np.cos(t)\n",
    "    test_data[class_id*20:(class_id+1)*20,0] = class_id\n",
    "    test_data[class_id*20:(class_id+1)*20,1] = x\n",
    "    class_id += 1\n",
    "training_data"
   ]
  },
  {
   "cell_type": "markdown",
   "id": "384fc485",
   "metadata": {},
   "source": [
    "import matplotlib.pyplot as plt\n",
    "from cycler import cycler\n",
    "\n",
    "my_colours = ['steelblue', 'seagreen', 'firebrick']\n",
    "custom_cycler = cycler(color=my_colours)\n",
    "\n",
    "fig, ax = plt.subplots()\n",
    "ax.set_prop_cycle(custom_cycler)\n",
    "ax.plot()\n",
    "plt.show()"
   ]
  },
  {
   "cell_type": "code",
   "execution_count": 40,
   "id": "080860d7",
   "metadata": {
    "scrolled": true
   },
   "outputs": [
    {
     "data": {
      "text/plain": [
       "array([[0.        , 0.9120579 ],\n",
       "       [0.        , 0.9030573 ],\n",
       "       [0.        , 0.6231888 ],\n",
       "       [0.        , 0.49788636],\n",
       "       [0.        , 0.5136221 ],\n",
       "       [0.        , 0.86768633],\n",
       "       [0.        , 0.8891433 ],\n",
       "       [0.        , 0.6634546 ],\n",
       "       [0.        , 0.74076754],\n",
       "       [0.        , 0.91264385],\n",
       "       [0.        , 0.9088455 ],\n",
       "       [0.        , 0.6715066 ],\n",
       "       [0.        , 0.6014248 ],\n",
       "       [0.        , 0.90327144],\n",
       "       [0.        , 0.8518067 ],\n",
       "       [0.        , 0.6481912 ],\n",
       "       [0.        , 0.68806165],\n",
       "       [0.        , 0.8421999 ],\n",
       "       [0.        , 0.62375504],\n",
       "       [0.        , 0.8147776 ],\n",
       "       [1.        , 0.05418544],\n",
       "       [1.        , 0.08325484],\n",
       "       [1.        , 0.05096076],\n",
       "       [1.        , 0.05640427],\n",
       "       [1.        , 0.09188379],\n",
       "       [1.        , 0.08861949],\n",
       "       [1.        , 0.08415237],\n",
       "       [1.        , 0.09138577],\n",
       "       [1.        , 0.06756537],\n",
       "       [1.        , 0.05160757],\n",
       "       [1.        , 0.05508128],\n",
       "       [1.        , 0.08181652],\n",
       "       [1.        , 0.08683967],\n",
       "       [1.        , 0.09204447],\n",
       "       [1.        , 0.05998755],\n",
       "       [1.        , 0.08443743],\n",
       "       [1.        , 0.08359692],\n",
       "       [1.        , 0.08693304],\n",
       "       [1.        , 0.0866776 ],\n",
       "       [1.        , 0.06039435],\n",
       "       [2.        , 0.3091309 ],\n",
       "       [2.        , 0.40368184],\n",
       "       [2.        , 0.55294156],\n",
       "       [2.        , 0.5013083 ],\n",
       "       [2.        , 0.42447084],\n",
       "       [2.        , 0.55453295],\n",
       "       [2.        , 0.4395583 ],\n",
       "       [2.        , 0.5525447 ],\n",
       "       [2.        , 0.5479696 ],\n",
       "       [2.        , 0.45407778],\n",
       "       [2.        , 0.30626315],\n",
       "       [2.        , 0.50547445],\n",
       "       [2.        , 0.52595943],\n",
       "       [2.        , 0.47846195],\n",
       "       [2.        , 0.5312822 ],\n",
       "       [2.        , 0.4625925 ],\n",
       "       [2.        , 0.45889002],\n",
       "       [2.        , 0.48896956],\n",
       "       [2.        , 0.5538316 ],\n",
       "       [2.        , 0.5539252 ],\n",
       "       [3.        , 0.31889513],\n",
       "       [3.        , 0.3302065 ],\n",
       "       [3.        , 0.33153123],\n",
       "       [3.        , 0.29882228],\n",
       "       [3.        , 0.30124286],\n",
       "       [3.        , 0.28817734],\n",
       "       [3.        , 0.22131157],\n",
       "       [3.        , 0.25888798],\n",
       "       [3.        , 0.3193531 ],\n",
       "       [3.        , 0.31420773],\n",
       "       [3.        , 0.27681455],\n",
       "       [3.        , 0.33495244],\n",
       "       [3.        , 0.18691638],\n",
       "       [3.        , 0.19870715],\n",
       "       [3.        , 0.2721409 ],\n",
       "       [3.        , 0.32999203],\n",
       "       [3.        , 0.21642745],\n",
       "       [3.        , 0.26564223],\n",
       "       [3.        , 0.24190049],\n",
       "       [3.        , 0.3313518 ],\n",
       "       [4.        , 0.00986359],\n",
       "       [4.        , 0.01031413],\n",
       "       [4.        , 0.01696195],\n",
       "       [4.        , 0.01675361],\n",
       "       [4.        , 0.01695411],\n",
       "       [4.        , 0.0144516 ],\n",
       "       [4.        , 0.01504418],\n",
       "       [4.        , 0.01498829],\n",
       "       [4.        , 0.01300933],\n",
       "       [4.        , 0.00941419],\n",
       "       [4.        , 0.0116587 ],\n",
       "       [4.        , 0.01539396],\n",
       "       [4.        , 0.00937401],\n",
       "       [4.        , 0.01289888],\n",
       "       [4.        , 0.0169482 ],\n",
       "       [4.        , 0.0101238 ],\n",
       "       [4.        , 0.01199308],\n",
       "       [4.        , 0.01196936],\n",
       "       [4.        , 0.01113403],\n",
       "       [4.        , 0.01689444]], dtype=float32)"
      ]
     },
     "execution_count": 40,
     "metadata": {},
     "output_type": "execute_result"
    }
   ],
   "source": [
    "test_data"
   ]
  },
  {
   "cell_type": "code",
   "execution_count": 41,
   "id": "77b453dc",
   "metadata": {
    "scrolled": true
   },
   "outputs": [
    {
     "data": {
      "text/plain": [
       "array([[1.        , 0.05640427],\n",
       "       [3.        , 0.27681455],\n",
       "       [1.        , 0.0866776 ],\n",
       "       [1.        , 0.09188379],\n",
       "       [4.        , 0.01196936],\n",
       "       [0.        , 0.9088455 ],\n",
       "       [1.        , 0.05418544],\n",
       "       [4.        , 0.01498829],\n",
       "       [3.        , 0.33153123],\n",
       "       [2.        , 0.40368184],\n",
       "       [1.        , 0.08181652],\n",
       "       [2.        , 0.52595943],\n",
       "       [3.        , 0.3313518 ],\n",
       "       [2.        , 0.5013083 ],\n",
       "       [0.        , 0.91264385],\n",
       "       [3.        , 0.28817734],\n",
       "       [3.        , 0.19870715],\n",
       "       [3.        , 0.32999203],\n",
       "       [3.        , 0.18691638],\n",
       "       [4.        , 0.01504418],\n",
       "       [1.        , 0.09204447],\n",
       "       [2.        , 0.45407778],\n",
       "       [0.        , 0.9030573 ],\n",
       "       [0.        , 0.49788636],\n",
       "       [1.        , 0.05508128],\n",
       "       [4.        , 0.01289888],\n",
       "       [0.        , 0.5136221 ],\n",
       "       [0.        , 0.62375504],\n",
       "       [0.        , 0.86768633],\n",
       "       [1.        , 0.08693304],\n",
       "       [0.        , 0.68806165],\n",
       "       [1.        , 0.05160757],\n",
       "       [4.        , 0.0169482 ],\n",
       "       [2.        , 0.4395583 ],\n",
       "       [3.        , 0.3193531 ],\n",
       "       [4.        , 0.01199308],\n",
       "       [2.        , 0.47846195],\n",
       "       [1.        , 0.06756537],\n",
       "       [1.        , 0.08443743],\n",
       "       [1.        , 0.08359692],\n",
       "       [3.        , 0.21642745],\n",
       "       [4.        , 0.01031413],\n",
       "       [2.        , 0.5525447 ],\n",
       "       [4.        , 0.00986359],\n",
       "       [3.        , 0.30124286],\n",
       "       [0.        , 0.6014248 ],\n",
       "       [3.        , 0.24190049],\n",
       "       [2.        , 0.55294156],\n",
       "       [3.        , 0.3302065 ],\n",
       "       [0.        , 0.9120579 ],\n",
       "       [4.        , 0.01695411],\n",
       "       [2.        , 0.5538316 ],\n",
       "       [2.        , 0.45889002],\n",
       "       [3.        , 0.26564223],\n",
       "       [2.        , 0.48896956],\n",
       "       [1.        , 0.08415237],\n",
       "       [4.        , 0.0116587 ],\n",
       "       [4.        , 0.0101238 ],\n",
       "       [2.        , 0.5312822 ],\n",
       "       [2.        , 0.55453295],\n",
       "       [2.        , 0.5479696 ],\n",
       "       [1.        , 0.08683967],\n",
       "       [0.        , 0.6634546 ],\n",
       "       [3.        , 0.22131157],\n",
       "       [2.        , 0.3091309 ],\n",
       "       [4.        , 0.0144516 ],\n",
       "       [0.        , 0.8421999 ],\n",
       "       [3.        , 0.25888798],\n",
       "       [1.        , 0.05998755],\n",
       "       [4.        , 0.01113403],\n",
       "       [2.        , 0.30626315],\n",
       "       [2.        , 0.4625925 ],\n",
       "       [3.        , 0.33495244],\n",
       "       [4.        , 0.00941419],\n",
       "       [4.        , 0.01300933],\n",
       "       [1.        , 0.06039435],\n",
       "       [1.        , 0.08861949],\n",
       "       [0.        , 0.8518067 ],\n",
       "       [3.        , 0.31420773],\n",
       "       [3.        , 0.2721409 ],\n",
       "       [2.        , 0.50547445],\n",
       "       [0.        , 0.8891433 ],\n",
       "       [4.        , 0.01539396],\n",
       "       [0.        , 0.6481912 ],\n",
       "       [1.        , 0.05096076],\n",
       "       [2.        , 0.5539252 ],\n",
       "       [3.        , 0.29882228],\n",
       "       [4.        , 0.00937401],\n",
       "       [0.        , 0.6715066 ],\n",
       "       [2.        , 0.42447084],\n",
       "       [1.        , 0.09138577],\n",
       "       [1.        , 0.08325484],\n",
       "       [0.        , 0.90327144],\n",
       "       [0.        , 0.6231888 ],\n",
       "       [4.        , 0.01675361],\n",
       "       [0.        , 0.74076754],\n",
       "       [0.        , 0.8147776 ],\n",
       "       [4.        , 0.01689444],\n",
       "       [4.        , 0.01696195],\n",
       "       [3.        , 0.31889513]], dtype=float32)"
      ]
     },
     "execution_count": 41,
     "metadata": {},
     "output_type": "execute_result"
    }
   ],
   "source": [
    "# shuffle by rows in training and test sets\n",
    "np.random.shuffle(training_data)\n",
    "np.random.shuffle(test_data)\n",
    "test_data"
   ]
  },
  {
   "cell_type": "code",
   "execution_count": 42,
   "id": "2c7897d4",
   "metadata": {},
   "outputs": [],
   "source": [
    "training_data = training_data.T"
   ]
  },
  {
   "cell_type": "code",
   "execution_count": 43,
   "id": "2b4b4de5",
   "metadata": {},
   "outputs": [
    {
     "data": {
      "text/plain": [
       "array([[0.        , 0.        , 3.        , ..., 4.        , 0.        ,\n",
       "        3.        ],\n",
       "       [0.50611883, 0.7596981 , 0.29337126, ..., 0.00987878, 0.91124326,\n",
       "        0.33133155]], dtype=float32)"
      ]
     },
     "execution_count": 43,
     "metadata": {},
     "output_type": "execute_result"
    }
   ],
   "source": [
    "training_data"
   ]
  },
  {
   "cell_type": "code",
   "execution_count": 44,
   "id": "a5b5828e",
   "metadata": {},
   "outputs": [],
   "source": [
    "test_data = test_data.T"
   ]
  },
  {
   "cell_type": "code",
   "execution_count": 45,
   "id": "b8f4b738",
   "metadata": {},
   "outputs": [],
   "source": [
    "# Hyperparameters\n",
    "input_size = 1000  # Example: Range of input numbers\n",
    "hidden_size = 64\n",
    "num_layers = 2\n",
    "num_heads = 4\n",
    "learning_rate = 0.001\n",
    "num_epochs = 500\n",
    "\n",
    "# Define the loss function and optimizer\n",
    "loss_function = tf.keras.losses.SparseCategoricalCrossentropy(from_logits=True)\n",
    "optimizer = tf.keras.optimizers.Adam()\n",
    "\n",
    "# Create the transformer model\n",
    "model = Transformer(input_size, hidden_size, num_layers, num_heads)\n"
   ]
  },
  {
   "cell_type": "code",
   "execution_count": 46,
   "id": "be90a6be",
   "metadata": {
    "scrolled": false
   },
   "outputs": [
    {
     "name": "stdout",
     "output_type": "stream",
     "text": [
      "Epoch [0/500], Loss: 6.9203\n",
      "[[0.         0.         3.         ... 4.         0.         3.        ]\n",
      " [0.50611883 0.7596981  0.29337126 ... 0.00987878 0.91124326 0.33133155]]\n",
      "Epoch [100/500], Loss: 1.6403\n",
      "[[0.         0.         3.         ... 4.         0.         3.        ]\n",
      " [0.50611883 0.7596981  0.29337126 ... 0.00987878 0.91124326 0.33133155]]\n",
      "Epoch [200/500], Loss: 1.5023\n",
      "[[0.         0.         3.         ... 4.         0.         3.        ]\n",
      " [0.50611883 0.7596981  0.29337126 ... 0.00987878 0.91124326 0.33133155]]\n",
      "Epoch [300/500], Loss: 0.9268\n",
      "[[0.         0.         3.         ... 4.         0.         3.        ]\n",
      " [0.50611883 0.7596981  0.29337126 ... 0.00987878 0.91124326 0.33133155]]\n",
      "Epoch [400/500], Loss: 0.4371\n",
      "[[0.         0.         3.         ... 4.         0.         3.        ]\n",
      " [0.50611883 0.7596981  0.29337126 ... 0.00987878 0.91124326 0.33133155]]\n",
      "Epoch [499/500], Loss: 0.2353\n",
      "[[0.         0.         3.         ... 4.         0.         3.        ]\n",
      " [0.50611883 0.7596981  0.29337126 ... 0.00987878 0.91124326 0.33133155]]\n"
     ]
    }
   ],
   "source": [
    "import matplotlib.pyplot as plt\n",
    "\n",
    "# Lists to store the loss values and epochs\n",
    "loss_history = []\n",
    "epoch_history = []\n",
    "\n",
    "\n",
    "\n",
    "# Training loop\n",
    "for epoch in range(num_epochs):\n",
    "    with tf.GradientTape() as tape:\n",
    "\n",
    "    \n",
    "#        n = 10-1  # Define the length of your lists\n",
    "#        start = random.randint(0, input_size - 3)  # Start with a random integer\n",
    "#        training_data = [start + 2*i for i in range(n)]\n",
    "#        target_values = [x + 2 for x in training_data]\n",
    "        \n",
    "        # Separating x values and class labels\n",
    "        tgt, data = training_data\n",
    "        # Convert training data to tensors\n",
    "        data = tf.constant([data])\n",
    "        tgt = tf.constant([tgt])\n",
    "\n",
    "        # Forward pass\n",
    "        output = model(data, training=True)\n",
    "\n",
    "        # Calculate loss\n",
    "        loss = loss_function(tgt, output)\n",
    "        # Append the loss and epoch to the history lists\n",
    "        loss_history.append(loss.numpy())\n",
    "        epoch_history.append(epoch)\n",
    "\n",
    "        if epoch % 100 == 0 or epoch == (num_epochs-1):\n",
    "            print(f\"Epoch [{epoch}/{num_epochs}], Loss: {loss.numpy():.4f}\")\n",
    "            print (training_data)\n",
    "\n",
    "\n",
    "    # Perform gradient descent\n",
    "    gradients = tape.gradient(loss, model.trainable_variables)\n",
    "    optimizer.apply_gradients(zip(gradients, model.trainable_variables))\n"
   ]
  },
  {
   "cell_type": "code",
   "execution_count": 47,
   "id": "c52381c2",
   "metadata": {},
   "outputs": [
    {
     "data": {
      "image/png": "[encoded data removed]",
      "text/plain": [
       "<Figure size 640x480 with 1 Axes>"
      ]
     },
     "metadata": {},
     "output_type": "display_data"
    }
   ],
   "source": [
    "# Plot the loss history\n",
    "plt.plot(epoch_history, loss_history)\n",
    "plt.title('Loss as a Function of Epochs')\n",
    "plt.xlabel('Epochs')\n",
    "plt.ylabel('Loss')\n",
    "plt.show()\n"
   ]
  },
  {
   "cell_type": "code",
   "execution_count": 48,
   "id": "a690e1a8",
   "metadata": {},
   "outputs": [
    {
     "name": "stdout",
     "output_type": "stream",
     "text": [
      "Model: \"transformer_3\"\n",
      "_________________________________________________________________\n",
      " Layer (type)                Output Shape              Param #   \n",
      "=================================================================\n",
      " embedding_3 (Embedding)     multiple                  64000     \n",
      "                                                                 \n",
      " positional_encoding_3 (Posi  multiple                 0         \n",
      " tionalEncoding)                                                 \n",
      "                                                                 \n",
      " transformer_layer_6 (Transf  multiple                 74816     \n",
      " ormerLayer)                                                     \n",
      "                                                                 \n",
      " transformer_layer_7 (Transf  multiple                 74816     \n",
      " ormerLayer)                                                     \n",
      "                                                                 \n",
      " dense_19 (Dense)            multiple                  65000     \n",
      "                                                                 \n",
      "=================================================================\n",
      "Total params: 278,632\n",
      "Trainable params: 278,632\n",
      "Non-trainable params: 0\n",
      "_________________________________________________________________\n"
     ]
    }
   ],
   "source": [
    "model.summary()"
   ]
  },
  {
   "cell_type": "code",
   "execution_count": 49,
   "id": "39e8fb8e",
   "metadata": {},
   "outputs": [],
   "source": [
    "# Make predictions\n",
    "tgt, data = test_data\n",
    "# Convert test data to tensors\n",
    "data = tf.constant([data])\n",
    "tgt = tf.constant([tgt])\n",
    "\n",
    "predictions = model(data, training=False)"
   ]
  },
  {
   "cell_type": "code",
   "execution_count": 50,
   "id": "f9d1aac3",
   "metadata": {
    "scrolled": true
   },
   "outputs": [
    {
     "name": "stdout",
     "output_type": "stream",
     "text": [
      "tf.Tensor(\n",
      "[[[ 5.480685   8.22264    2.52305   ... -3.5081325 -3.1813214 -3.683815 ]\n",
      "  [ 4.5892944  8.975171   2.4221592 ... -3.5622852 -3.218368  -3.8082538]\n",
      "  [ 3.1514857  9.700153   2.2368402 ... -3.9719663 -3.635249  -4.091427 ]\n",
      "  ...\n",
      "  [ 6.29658    8.492671   2.1470544 ... -4.8509045 -4.337636  -4.21937  ]\n",
      "  [ 6.291038   8.314637   2.0401568 ... -4.7992716 -4.2875257 -4.3015423]\n",
      "  [ 6.9339547  7.8267174  2.9426193 ... -4.2635727 -3.9416363 -4.046296 ]]], shape=(1, 100, 1000), dtype=float32)\n"
     ]
    }
   ],
   "source": [
    "print (predictions)"
   ]
  },
  {
   "cell_type": "code",
   "execution_count": 51,
   "id": "d593f1b2",
   "metadata": {},
   "outputs": [
    {
     "data": {
      "text/plain": [
       "<tf.Tensor: shape=(), dtype=float32, numpy=3.722125>"
      ]
     },
     "execution_count": 51,
     "metadata": {},
     "output_type": "execute_result"
    }
   ],
   "source": [
    "loss = loss_function(tgt, predictions)\n",
    "loss"
   ]
  },
  {
   "cell_type": "markdown",
   "id": "3d18a7bc",
   "metadata": {},
   "source": [
    "# Print the predicted values\n",
    "predicted_values = predictions.numpy().tolist()\n",
    "\n",
    "print (predicted_values)\n",
    "for i, prediction in enumerate(predicted_values):\n",
    "    \n",
    "    print(f\"Predicted class for number {test_data[i]} is : {prediction}\")\n"
   ]
  },
  {
   "cell_type": "markdown",
   "id": "27ed1ef6",
   "metadata": {},
   "source": [
    "model.compile(\n",
    "    loss=\"sparse_categorical_crossentropy\",\n",
    "    optimizer=keras.optimizers.Adam(learning_rate=1e-4),\n",
    "    metrics=[\"sparse_categorical_accuracy\"],\n",
    ")\n",
    "model.summary()\n",
    "\n",
    "callbacks = [keras.callbacks.EarlyStopping(patience=10, restore_best_weights=True)]\n",
    "\n",
    "model.fit(\n",
    "    x_train,\n",
    "    y_train,\n",
    "    validation_split=0.2,\n",
    "    epochs=500,\n",
    "    batch_size=1000,\n",
    "    callbacks=callbacks,\n",
    ")"
   ]
  },
  {
   "cell_type": "code",
   "execution_count": null,
   "id": "9cceaeb2",
   "metadata": {},
   "outputs": [],
   "source": []
  }
 ],
 "metadata": {
  "kernelspec": {
   "display_name": "Python 3 (ipykernel)",
   "language": "python",
   "name": "python3"
  },
  "language_info": {
   "codemirror_mode": {
    "name": "ipython",
    "version": 3
   },
   "file_extension": ".py",
   "mimetype": "text/x-python",
   "name": "python",
   "nbconvert_exporter": "python",
   "pygments_lexer": "ipython3",
   "version": "3.10.4"
  }
 },
 "nbformat": 4,
 "nbformat_minor": 5
}
